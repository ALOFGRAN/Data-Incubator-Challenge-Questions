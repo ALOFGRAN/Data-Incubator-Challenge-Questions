{
 "cells": [
  {
   "cell_type": "code",
   "execution_count": 3,
   "metadata": {},
   "outputs": [],
   "source": [
    "import pandas as pd\n",
    "import spacy\n",
    "nlp = spacy.load('models/drug_names')"
   ]
  },
  {
   "cell_type": "code",
   "execution_count": 4,
   "metadata": {},
   "outputs": [
    {
     "name": "stdout",
     "output_type": "stream",
     "text": [
      "'DRUGNAME' doesn't exist for:   30mg Oral Tablet\n",
      "'QUANTITY' doesn't exist for:   Ibuprofen Tablet\n"
     ]
    },
    {
     "data": {
      "text/plain": [
       "{'DRUGNAME': [None, 'Tylenol', 'Ibuprofen'],\n",
       " 'QUANTITY': ['30mg', '10mg', None],\n",
       " 'MECHANISM': ['Oral Tablet', 'Tablet', 'Tablet']}"
      ]
     },
     "execution_count": 4,
     "metadata": {},
     "output_type": "execute_result"
    }
   ],
   "source": [
    "#Create a dataframe with the existing data (to mimic actual application)\n",
    "df = pd.DataFrame(['30mg Oral Tablet', 'Tylenol 10mg Tablet', 'Ibuprofen Tablet'], columns=['drug_name']) #What about drug names without quanities & mechanisms?\n",
    "df['docs'] = df.apply(lambda x: [nlp(i) for i in x])\n",
    "\n",
    "#Create a dictionary to save entities in\n",
    "ner_dict = {'DRUGNAME': [], 'QUANTITY': [], 'MECHANISM': []}\n",
    "\n",
    "\n",
    "def get_entities(df):\n",
    "    for name in df['docs']:\n",
    "        #If the entity was predicted NOT to exist by Ner in the drug name\n",
    "        annotations_found = [i.label_ for i in name.ents]\n",
    "        if 'DRUGNAME' not in annotations_found:\n",
    "            print(\"'DRUGNAME' doesn't exist for:   {}\".format(name.text))\n",
    "            ner_dict['DRUGNAME'].append(None)\n",
    "        elif 'QUANTITY' not in annotations_found:\n",
    "            print(\"'QUANTITY' doesn't exist for:   {}\".format(name.text))\n",
    "            ner_dict['QUANTITY'].append(None)  \n",
    "        elif 'MECHANISM' not in annotations_found:\n",
    "            print(\"'MECHANISM' doesn't exist for:   {}\".format(name.text))\n",
    "            ner_dict['MECHANISM'].append(None)  \n",
    "\n",
    "        #If the entity was predicted to exist by Ner in the drug name\n",
    "        for ent in name.ents:         \n",
    "            if (ent.label_=='DRUGNAME'):\n",
    "                ner_dict[ent.label_].append(ent.text)        \n",
    "\n",
    "            if (ent.label_=='QUANTITY'):\n",
    "                ner_dict[ent.label_].append(ent.text)  \n",
    "\n",
    "            if (ent.label_=='MECHANISM'):\n",
    "                ner_dict[ent.label_].append(ent.text)    \n",
    "\n",
    "    return ner_dict\n",
    "\n",
    "ner_dict = get_entities(df)\n",
    "ner_dict"
   ]
  },
  {
   "cell_type": "code",
   "execution_count": 5,
   "metadata": {},
   "outputs": [
    {
     "data": {
      "text/html": [
       "<div>\n",
       "<style scoped>\n",
       "    .dataframe tbody tr th:only-of-type {\n",
       "        vertical-align: middle;\n",
       "    }\n",
       "\n",
       "    .dataframe tbody tr th {\n",
       "        vertical-align: top;\n",
       "    }\n",
       "\n",
       "    .dataframe thead th {\n",
       "        text-align: right;\n",
       "    }\n",
       "</style>\n",
       "<table border=\"1\" class=\"dataframe\">\n",
       "  <thead>\n",
       "    <tr style=\"text-align: right;\">\n",
       "      <th></th>\n",
       "      <th>drug_name</th>\n",
       "      <th>docs</th>\n",
       "      <th>DRUGNAME</th>\n",
       "      <th>QUANTITY</th>\n",
       "      <th>MECHANISM</th>\n",
       "    </tr>\n",
       "  </thead>\n",
       "  <tbody>\n",
       "    <tr>\n",
       "      <th>0</th>\n",
       "      <td>30mg Oral Tablet</td>\n",
       "      <td>(30, mg, Oral, Tablet)</td>\n",
       "      <td>None</td>\n",
       "      <td>30mg</td>\n",
       "      <td>Oral Tablet</td>\n",
       "    </tr>\n",
       "    <tr>\n",
       "      <th>1</th>\n",
       "      <td>Tylenol 10mg Tablet</td>\n",
       "      <td>(Tylenol, 10, mg, Tablet)</td>\n",
       "      <td>Tylenol</td>\n",
       "      <td>10mg</td>\n",
       "      <td>Tablet</td>\n",
       "    </tr>\n",
       "    <tr>\n",
       "      <th>2</th>\n",
       "      <td>Ibuprofen Tablet</td>\n",
       "      <td>(Ibuprofen, Tablet)</td>\n",
       "      <td>Ibuprofen</td>\n",
       "      <td>None</td>\n",
       "      <td>Tablet</td>\n",
       "    </tr>\n",
       "  </tbody>\n",
       "</table>\n",
       "</div>"
      ],
      "text/plain": [
       "             drug_name                       docs   DRUGNAME QUANTITY  \\\n",
       "0     30mg Oral Tablet     (30, mg, Oral, Tablet)       None     30mg   \n",
       "1  Tylenol 10mg Tablet  (Tylenol, 10, mg, Tablet)    Tylenol     10mg   \n",
       "2     Ibuprofen Tablet        (Ibuprofen, Tablet)  Ibuprofen     None   \n",
       "\n",
       "     MECHANISM  \n",
       "0  Oral Tablet  \n",
       "1       Tablet  \n",
       "2       Tablet  "
      ]
     },
     "execution_count": 5,
     "metadata": {},
     "output_type": "execute_result"
    }
   ],
   "source": [
    "# ner_dict['drugname'] = ner_dict['DRUGNAME']\n",
    "# del ner_dict['DRUGNAME']\n",
    "df.join(pd.DataFrame(ner_dict))"
   ]
  },
  {
   "cell_type": "code",
   "execution_count": null,
   "metadata": {},
   "outputs": [],
   "source": []
  },
  {
   "cell_type": "code",
   "execution_count": null,
   "metadata": {},
   "outputs": [],
   "source": []
  },
  {
   "cell_type": "code",
   "execution_count": null,
   "metadata": {},
   "outputs": [],
   "source": []
  }
 ],
 "metadata": {
  "kernelspec": {
   "display_name": "Python 3",
   "language": "python",
   "name": "python3"
  },
  "language_info": {
   "codemirror_mode": {
    "name": "ipython",
    "version": 3
   },
   "file_extension": ".py",
   "mimetype": "text/x-python",
   "name": "python",
   "nbconvert_exporter": "python",
   "pygments_lexer": "ipython3",
   "version": "3.8.3"
  }
 },
 "nbformat": 4,
 "nbformat_minor": 4
}
