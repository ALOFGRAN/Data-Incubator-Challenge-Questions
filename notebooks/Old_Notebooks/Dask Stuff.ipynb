{
 "cells": [
  {
   "cell_type": "code",
   "execution_count": null,
   "metadata": {},
   "outputs": [],
   "source": [
    "import pandas as pd\n",
    "import dask.dataframe as dd\n",
    "from dask.distributed import Client\n",
    "import fuzzywuzzy as fuzz\n",
    "\n",
    "\n",
    "client = Client() #call the client from dask.distribute\n",
    "client #initiate the client\n",
    "\n",
    "client.scatter\n",
    "\n",
    "name_1 = []\n",
    "name_2 = []"
   ]
  },
  {
   "cell_type": "code",
   "execution_count": null,
   "metadata": {},
   "outputs": [],
   "source": [
    "# Define matching function that will be used to provide a comparison of strings (drug names, strengths, and routes) for later merging of datasets\n",
    "def match_name(name, list_names, min_score=0):\n",
    "    # -1 score incase we don't get any matches\n",
    "    max_score = -1\n",
    "    # Returning empty name for no match as well\n",
    "    max_name = \"\"\n",
    "    # Iternating over all names in the other\n",
    "    for name2 in list_names:\n",
    "        print(name2)\n",
    "        print(name)\n",
    "        #Finding fuzzy match score\n",
    "        score = fuzz.token_set_ratio(name, name2)\n",
    "        # Checking if we are above our threshold and have a better score\n",
    "        if (score > min_score) & (score > max_score):\n",
    "            max_name = name2\n",
    "            max_score = score\n",
    "    return (max_name, max_score)"
   ]
  },
  {
   "cell_type": "code",
   "execution_count": null,
   "metadata": {},
   "outputs": [],
   "source": [
    "# Runs the function above\n",
    "\n",
    "# prices.set_index('ndc description')\n",
    "# all_data.set_index('ndc_description_agg')\n",
    "prices = prices.repartition(npartitions=prices.npartitions // 10)\n",
    "all_data = all_data.repartition(npartitions=all_data.npartitions // 10)\n",
    "\n",
    "# List for dicts for easy dataframe creation\n",
    "dict_list = []\n",
    "# iterating over our drugs to find a match\n",
    "for name in prices['ndc description'].compute():\n",
    "    # Use our method to find best match, we can set a threshold here\n",
    "    print(name, all_data['ndc_description_agg'])\n",
    "    \n",
    "    match = match_name(name, all_data['ndc_description_agg'], 85)\n",
    "    # New dict for storing data\n",
    "    dict_ = {}\n",
    "    dict_.update({'ndc description' : name})\n",
    "    dict_.update({'ndc_description_agg' : match[0]})\n",
    "    dict_.update({'score' : match[1]})\n",
    "    dict_list.append(dict_)\n",
    "    \n",
    "merge_table1 = pd.DataFrame(dict_list)\n",
    "# Display results\n",
    "merge_table1"
   ]
  }
 ],
 "metadata": {
  "kernelspec": {
   "display_name": "Python 3",
   "language": "python",
   "name": "python3"
  },
  "language_info": {
   "codemirror_mode": {
    "name": "ipython",
    "version": 3
   },
   "file_extension": ".py",
   "mimetype": "text/x-python",
   "name": "python",
   "nbconvert_exporter": "python",
   "pygments_lexer": "ipython3",
   "version": "3.7.1"
  }
 },
 "nbformat": 4,
 "nbformat_minor": 4
}
